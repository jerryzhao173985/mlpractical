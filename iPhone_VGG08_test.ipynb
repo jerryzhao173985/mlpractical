{
 "cells": [
  {
   "cell_type": "code",
   "execution_count": null,
   "metadata": {},
   "outputs": [],
   "source": [
    "import numpy as np\n",
    "import torch\n",
    "from torch.utils.data import DataLoader\n",
    "from torchvision import transforms\n",
    "\n",
    "import mlp.data_providers as data_providers\n",
    "from pytorch_mlp_framework.arg_extractor import get_args\n",
    "from pytorch_mlp_framework.experiment_builder import ExperimentBuilder\n",
    "from pytorch_mlp_framework.model_architectures import *\n",
    "import os \n",
    "# os.environ[\"CUDA_VISIBLE_DEVICES\"]=\"0\""
   ]
  },
  {
   "cell_type": "code",
   "execution_count": null,
   "metadata": {},
   "outputs": [],
   "source": [
    "rng = np.random.RandomState(seed=0)  # set the seeds for the experiment\n",
    "torch.manual_seed(seed=0)  # sets pytorch's seed\n",
    "\n",
    "# set up data augmentation transforms for training and testing\n",
    "transform_train = transforms.Compose([\n",
    "        transforms.RandomCrop(32, padding=4),\n",
    "        transforms.RandomHorizontalFlip(),\n",
    "        transforms.ToTensor(),\n",
    "        transforms.Normalize((0.4914, 0.4822, 0.4465), (0.2023, 0.1994, 0.2010)),\n",
    "    ])\n",
    "\n",
    "transform_test = transforms.Compose([\n",
    "    transforms.ToTensor(),\n",
    "    transforms.Normalize((0.4914, 0.4822, 0.4465), (0.2023, 0.1994, 0.2010)),\n",
    "])\n",
    "\n",
    "train_data = data_providers.CIFAR100(root='data', set_name='train',\n",
    "                 transform=transform_train,\n",
    "                 download=True)  # initialize our rngs using the argument set seed\n",
    "val_data = data_providers.CIFAR100(root='data', set_name='val',\n",
    "                 transform=transform_test,\n",
    "                 download=True)  # initialize our rngs using the argument set seed\n",
    "test_data = data_providers.CIFAR100(root='data', set_name='test',\n",
    "                 transform=transform_test,\n",
    "                 download=True)  # initialize our rngs using the argument set seed\n",
    "\n",
    "train_data_loader = DataLoader(train_data, batch_size=100, shuffle=True, num_workers=4)\n",
    "val_data_loader = DataLoader(val_data, batch_size=50, shuffle=True, num_workers=4)\n",
    "test_data_loader = DataLoader(test_data, batch_size=50, shuffle=True, num_workers=4)"
   ]
  },
  {
   "cell_type": "code",
   "execution_count": null,
   "metadata": {},
   "outputs": [],
   "source": [
    "processing_block_type = ConvolutionalProcessingBlock\n",
    "dim_reduction_block_type = ConvolutionalDimensionalityReductionBlock\n",
    "\n",
    "custom_conv_net = ConvolutionalNetwork(  # initialize our network object, in this case a ConvNet\n",
    "    input_shape=(100, 3, 32, 32),\n",
    "    num_output_classes=100, num_filters=32, use_bias=False,\n",
    "    num_blocks_per_stage=0, num_stages=3,\n",
    "    processing_block_type=processing_block_type,\n",
    "    dimensionality_reduction_block_type=dim_reduction_block_type)\n",
    "\n",
    "conv_experiment = ExperimentBuilder(network_model=custom_conv_net,\n",
    "                                    experiment_name='VGG',\n",
    "                                    num_epochs=1,\n",
    "                                    weight_decay_coefficient=0,\n",
    "                                    use_gpu=False  ,\n",
    "                                    continue_from_epoch=-1,\n",
    "                                    train_data=train_data_loader, val_data=val_data_loader,\n",
    "                                    test_data=test_data_loader)  # build an experiment object\n",
    "\n",
    "experiment_metrics, test_metrics = conv_experiment.run_experiment()  # run experiment and return experiment metrics\n"
   ]
  }
 ],
 "metadata": {
  "kernelspec": {
   "display_name": "Python 3",
   "language": "python",
   "name": "python3"
  },
  "language_info": {
   "codemirror_mode": {
    "name": "ipython",
    "version": 3
   },
   "file_extension": ".py",
   "mimetype": "text/x-python",
   "name": "python",
   "nbconvert_exporter": "python",
   "pygments_lexer": "ipython3",
   "version": "3.8.3"
  }
 },
 "nbformat": 4,
 "nbformat_minor": 4
}
